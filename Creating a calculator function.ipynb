{
 "cells": [
  {
   "cell_type": "code",
   "execution_count": null,
   "id": "cfdebacf-016c-45fb-845e-08cfe06f481e",
   "metadata": {},
   "outputs": [
    {
     "name": "stdin",
     "output_type": "stream",
     "text": [
      "Enter the first number:  1\n"
     ]
    },
    {
     "name": "stdout",
     "output_type": "stream",
     "text": [
      "Available operations:\n",
      "+\n",
      "-\n",
      "*\n",
      "/\n"
     ]
    },
    {
     "name": "stdin",
     "output_type": "stream",
     "text": [
      "Pick an operation:  /\n",
      "Enter the second number:  2\n"
     ]
    },
    {
     "name": "stdout",
     "output_type": "stream",
     "text": [
      "1.0 / 2.0 = 0.5\n"
     ]
    },
    {
     "name": "stdin",
     "output_type": "stream",
     "text": [
      "Type 'y' to continue calculating with 0.5, or 'n' to start a new calculation:  y\n",
      "Pick an operation:  /\n",
      "Enter the second number:  5\n"
     ]
    },
    {
     "name": "stdout",
     "output_type": "stream",
     "text": [
      "0.5 / 5.0 = 0.1\n"
     ]
    },
    {
     "name": "stdin",
     "output_type": "stream",
     "text": [
      "Type 'y' to continue calculating with 0.1, or 'n' to start a new calculation:  y\n"
     ]
    }
   ],
   "source": [
    "def add(a, b):\n",
    "    \"\"\"Function to add two numbers\"\"\"\n",
    "    return a + b  # Returns the sum of a and b\n",
    "\n",
    "def subtract(a, b):\n",
    "    \"\"\"Function to subtract the second number from the first number\"\"\"\n",
    "    return a - b  # Returns the difference of a and b\n",
    "\n",
    "def multiply(a, b):\n",
    "    \"\"\"Function to multiply two numbers\"\"\"\n",
    "    return a * b  # Returns the product of a and b\n",
    "\n",
    "def divide(a, b):\n",
    "    \"\"\"Function to divide the first number by the second number\"\"\"\n",
    "    if b != 0:  # Checks if the divisor is not zero\n",
    "        return a / b  # Returns the quotient of a and b\n",
    "    else:\n",
    "        return \"Error! Division by zero.\"  # Returns an error message if b is zero\n",
    "\n",
    "# Dictionary that assigns the functions to their corresponding operation sym\n",
    "operations = {\n",
    "    '+': add,  # Addition operation\n",
    "    '-': subtract,  # Subtraction operation\n",
    "    '*': multiply,  # Multiplication operation\n",
    "    '/': divide  # Division operation\n",
    "}\n",
    "\n",
    "#creating the calculator function\n",
    "def calculator():\n",
    "    \"\"\"Main calculator function\"\"\"\n",
    "    num1 = input(\"Enter the first number: \")  # Prompts the user to enter the first number\n",
    "    num1 = float(num1) # converts it to a float\n",
    "    \n",
    "    # Print available operations\n",
    "    print(\"Available operations:\")\n",
    "    for symbol in operations:  \n",
    "        print(symbol)  \n",
    "    \n",
    "    should_continue = True  \n",
    "\n",
    "    while should_continue:  \n",
    "        operation_symbol = input(\"Pick an operation: \")  \n",
    "        num2 = float(input(\"Enter the second number: \"))  # Prompts the user to enter the second number and converts it to a float\n",
    "        \n",
    "        # Retrieve the function based on the operation symbol\n",
    "        calculation_function = operations.get(operation_symbol)  # Gets the corresponding function from the operations dictionary\n",
    "        \n",
    "        if calculation_function:  # Checks if the operation symbol is valid\n",
    "            answer = calculation_function(num1, num2)  # Calls the function with num1 and num2 as arguments and stores the result in answer\n",
    "            print(f\"{num1} {operation_symbol} {num2} = {answer}\")  # Prints the result of the calculation\n",
    "            \n",
    "            next_step = input(f\"Type 'y' to continue calculating with {answer}, or 'n' to start a new calculation: \").lower()  # Prompts the user for the next step\n",
    "            if next_step == 'y':  # If the user chooses to continue with the current result\n",
    "                num1 = answer  # Updates num1 with the current result\n",
    "            else:\n",
    "                should_continue = False  # Sets the continuation flag to False to end the loop\n",
    "                calculator()  # Recursively calls the calculator function to start a new calculation\n",
    "        else:\n",
    "            print(\"Invalid operation symbol. Please try again.\")  # Prints an error message if the operation symbol is invalid\n",
    "            # Start the calculator\n",
    "calculator()\n",
    "\n"
   ]
  },
  {
   "cell_type": "code",
   "execution_count": null,
   "id": "20f1ff92-e943-444e-8e5a-eb7756746385",
   "metadata": {},
   "outputs": [],
   "source": []
  }
 ],
 "metadata": {
  "kernelspec": {
   "display_name": "Python 3 (ipykernel)",
   "language": "python",
   "name": "python3"
  },
  "language_info": {
   "codemirror_mode": {
    "name": "ipython",
    "version": 3
   },
   "file_extension": ".py",
   "mimetype": "text/x-python",
   "name": "python",
   "nbconvert_exporter": "python",
   "pygments_lexer": "ipython3",
   "version": "3.11.7"
  }
 },
 "nbformat": 4,
 "nbformat_minor": 5
}
